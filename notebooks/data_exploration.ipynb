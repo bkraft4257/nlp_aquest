{
 "cells": [
  {
   "cell_type": "markdown",
   "id": "8ba5aa3e-2e38-4764-9b02-468a969a4cd6",
   "metadata": {},
   "source": [
    "# Background"
   ]
  },
  {
   "cell_type": "markdown",
   "id": "bed317fa-8d69-4fc9-9919-5ff04ada8597",
   "metadata": {},
   "source": [
    "https://towardsdatascience.com/building-a-topic-modeling-pipeline-with-spacy-and-gensim-c5dc03ffc619"
   ]
  },
  {
   "cell_type": "markdown",
   "id": "d4004239-78c0-4a76-8079-629eeb9185be",
   "metadata": {
    "tags": []
   },
   "source": [
    "# Initialization"
   ]
  },
  {
   "cell_type": "code",
   "execution_count": 100,
   "id": "e27520e5-0e72-49b5-a0c6-c4f55c144da8",
   "metadata": {},
   "outputs": [
    {
     "data": {
      "text/html": [
       "<style>.container { width:80% !important; }</style>"
      ],
      "text/plain": [
       "<IPython.core.display.HTML object>"
      ]
     },
     "metadata": {},
     "output_type": "display_data"
    },
    {
     "name": "stdout",
     "output_type": "stream",
     "text": [
      "The autoreload extension is already loaded. To reload it, use:\n",
      "  %reload_ext autoreload\n"
     ]
    }
   ],
   "source": [
    "%matplotlib inline\n",
    "\n",
    "import os\n",
    "from pathlib import Path\n",
    "import numpy as np\n",
    "import datetime\n",
    "\n",
    "import pandas as pd\n",
    "pd.set_option(\"display.max_rows\",10)\n",
    "\n",
    "# IPython\n",
    "\n",
    "from IPython.display import display, Markdown, HTML\n",
    "from IPython.display import Image\n",
    "\n",
    "from IPython.core.interactiveshell import InteractiveShell\n",
    "InteractiveShell.ast_node_interactivity = \"all\"\n",
    "\n",
    "# http://stackoverflow.com/questions/21971449/how-do-i-increase-the-cell-width-of-the-jupyter-ipython-notebook-in-my-browser\n",
    "from IPython.core.display import display, HTML\n",
    "display(HTML(\"<style>.container { width:80% !important; }</style>\"))\n",
    "\n",
    "\n",
    "# Autoload Python Code\n",
    "%load_ext autoreload\n",
    "%autoreload 2"
   ]
  },
  {
   "cell_type": "markdown",
   "id": "08cd0182-3627-4a55-8238-979d2b388612",
   "metadata": {},
   "source": [
    "# Data "
   ]
  },
  {
   "cell_type": "markdown",
   "id": "578a78a0-eecb-4f83-9783-95e81fbf4936",
   "metadata": {},
   "source": [
    "https://www.kaggle.com/stackoverflow/stacksample"
   ]
  },
  {
   "cell_type": "markdown",
   "id": "285917fc-5ce4-4029-99fd-f0f3016bfaaa",
   "metadata": {},
   "source": [
    "Dataset with the text of 10% of questions and answers from the Stack Overflow programming Q&A website.\n",
    "\n",
    "This is organized as three tables:\n",
    "\n",
    "* Questions contains the title, body, creation date, closed date (if applicable), score, and owner ID for all non-deleted  Stack Overflow questions whose Id is a multiple of 10.\n",
    "\n",
    "* Answers contains the body, creation date, score, and owner ID for each of the answers to these questions. The ParentId column links back to the Questions table.\n",
    "\n",
    "* Tags contains the tags on each of these questions"
   ]
  },
  {
   "cell_type": "code",
   "execution_count": 51,
   "id": "deb781aa-47f3-494f-9d1c-80dac0125727",
   "metadata": {},
   "outputs": [
    {
     "name": "stdout",
     "output_type": "stream",
     "text": [
      "Collecting rich\n",
      "  Downloading rich-11.0.0-py3-none-any.whl (215 kB)\n",
      "     |████████████████████████████████| 215 kB 2.0 MB/s            \n",
      "\u001b[?25hCollecting devtools\n",
      "  Downloading devtools-0.8.0-py3-none-any.whl (14 kB)\n",
      "Collecting commonmark<0.10.0,>=0.9.0\n",
      "  Using cached commonmark-0.9.1-py2.py3-none-any.whl (51 kB)\n",
      "Collecting colorama<0.5.0,>=0.4.0\n",
      "  Using cached colorama-0.4.4-py2.py3-none-any.whl (16 kB)\n",
      "Requirement already satisfied: pygments<3.0.0,>=2.6.0 in /Library/Frameworks/Python.framework/Versions/3.9/lib/python3.9/site-packages (from rich) (2.10.0)\n",
      "Collecting asttokens<3.0.0,>=2.0.0\n",
      "  Downloading asttokens-2.0.5-py2.py3-none-any.whl (20 kB)\n",
      "Collecting executing<1.0.0,>=0.8.0\n",
      "  Downloading executing-0.8.2-py2.py3-none-any.whl (16 kB)\n",
      "Requirement already satisfied: six in /Users/bkraft/Library/Python/3.9/lib/python/site-packages (from asttokens<3.0.0,>=2.0.0->devtools) (1.15.0)\n",
      "Installing collected packages: executing, commonmark, colorama, asttokens, rich, devtools\n",
      "Successfully installed asttokens-2.0.5 colorama-0.4.4 commonmark-0.9.1 devtools-0.8.0 executing-0.8.2 rich-11.0.0\n",
      "\u001b[33mWARNING: You are using pip version 21.3; however, version 21.3.1 is available.\n",
      "You should consider upgrading via the '/Library/Frameworks/Python.framework/Versions/3.9/bin/python3 -m pip install --upgrade pip' command.\u001b[0m\n",
      "Note: you may need to restart the kernel to use updated packages.\n"
     ]
    }
   ],
   "source": [
    "%pip install rich devtools"
   ]
  },
  {
   "cell_type": "code",
   "execution_count": 52,
   "id": "6862544b-7d12-4564-8fe3-dd79abc26890",
   "metadata": {},
   "outputs": [],
   "source": [
    "from pathlib import Path\n",
    "from devtools import debug"
   ]
  },
  {
   "cell_type": "code",
   "execution_count": 4,
   "id": "b9545bcb-f7f4-4b22-a30f-1e2f6a1f6ed3",
   "metadata": {},
   "outputs": [],
   "source": [
    "data_path = Path('/Users/bkraft/data/dt_nlp1')"
   ]
  },
  {
   "cell_type": "markdown",
   "id": "5a0c253c-9418-4c6e-96e9-39f4334b788c",
   "metadata": {
    "tags": []
   },
   "source": [
    "#### Questions"
   ]
  },
  {
   "cell_type": "code",
   "execution_count": 18,
   "id": "10be8b18-c5e0-45e4-950a-bc0bdc10385b",
   "metadata": {},
   "outputs": [],
   "source": [
    "questions = pd.read_csv(data_path / 'Questions.csv',  encoding=\"ISO-8859-1\")"
   ]
  },
  {
   "cell_type": "code",
   "execution_count": 39,
   "id": "383933bf-5b0a-4bd5-a303-6ec9842d0ca7",
   "metadata": {},
   "outputs": [
    {
     "data": {
      "text/plain": [
       "1264216"
      ]
     },
     "execution_count": 39,
     "metadata": {},
     "output_type": "execute_result"
    },
    {
     "data": {
      "text/html": [
       "<div>\n",
       "<style scoped>\n",
       "    .dataframe tbody tr th:only-of-type {\n",
       "        vertical-align: middle;\n",
       "    }\n",
       "\n",
       "    .dataframe tbody tr th {\n",
       "        vertical-align: top;\n",
       "    }\n",
       "\n",
       "    .dataframe thead th {\n",
       "        text-align: right;\n",
       "    }\n",
       "</style>\n",
       "<table border=\"1\" class=\"dataframe\">\n",
       "  <thead>\n",
       "    <tr style=\"text-align: right;\">\n",
       "      <th></th>\n",
       "      <th>Id</th>\n",
       "      <th>OwnerUserId</th>\n",
       "      <th>CreationDate</th>\n",
       "      <th>ClosedDate</th>\n",
       "      <th>Score</th>\n",
       "      <th>Title</th>\n",
       "      <th>Body</th>\n",
       "    </tr>\n",
       "  </thead>\n",
       "  <tbody>\n",
       "    <tr>\n",
       "      <th>0</th>\n",
       "      <td>80</td>\n",
       "      <td>26.0</td>\n",
       "      <td>2008-08-01T13:57:07Z</td>\n",
       "      <td>NaN</td>\n",
       "      <td>26</td>\n",
       "      <td>SQLStatement.execute() - multiple queries in o...</td>\n",
       "      <td>&lt;p&gt;I've written a database generation script i...</td>\n",
       "    </tr>\n",
       "    <tr>\n",
       "      <th>1</th>\n",
       "      <td>90</td>\n",
       "      <td>58.0</td>\n",
       "      <td>2008-08-01T14:41:24Z</td>\n",
       "      <td>2012-12-26T03:45:49Z</td>\n",
       "      <td>144</td>\n",
       "      <td>Good branching and merging tutorials for Torto...</td>\n",
       "      <td>&lt;p&gt;Are there any really good tutorials explain...</td>\n",
       "    </tr>\n",
       "    <tr>\n",
       "      <th>2</th>\n",
       "      <td>120</td>\n",
       "      <td>83.0</td>\n",
       "      <td>2008-08-01T15:50:08Z</td>\n",
       "      <td>NaN</td>\n",
       "      <td>21</td>\n",
       "      <td>ASP.NET Site Maps</td>\n",
       "      <td>&lt;p&gt;Has anyone got experience creating &lt;strong&gt;...</td>\n",
       "    </tr>\n",
       "    <tr>\n",
       "      <th>3</th>\n",
       "      <td>180</td>\n",
       "      <td>2089740.0</td>\n",
       "      <td>2008-08-01T18:42:19Z</td>\n",
       "      <td>NaN</td>\n",
       "      <td>53</td>\n",
       "      <td>Function for creating color wheels</td>\n",
       "      <td>&lt;p&gt;This is something I've pseudo-solved many t...</td>\n",
       "    </tr>\n",
       "    <tr>\n",
       "      <th>4</th>\n",
       "      <td>260</td>\n",
       "      <td>91.0</td>\n",
       "      <td>2008-08-01T23:22:08Z</td>\n",
       "      <td>NaN</td>\n",
       "      <td>49</td>\n",
       "      <td>Adding scripting functionality to .NET applica...</td>\n",
       "      <td>&lt;p&gt;I have a little game written in C#. It uses...</td>\n",
       "    </tr>\n",
       "    <tr>\n",
       "      <th>...</th>\n",
       "      <td>...</td>\n",
       "      <td>...</td>\n",
       "      <td>...</td>\n",
       "      <td>...</td>\n",
       "      <td>...</td>\n",
       "      <td>...</td>\n",
       "      <td>...</td>\n",
       "    </tr>\n",
       "    <tr>\n",
       "      <th>1264211</th>\n",
       "      <td>40143210</td>\n",
       "      <td>5610777.0</td>\n",
       "      <td>2016-10-19T23:38:01Z</td>\n",
       "      <td>NaN</td>\n",
       "      <td>0</td>\n",
       "      <td>URL routing in PHP (MVC)</td>\n",
       "      <td>&lt;p&gt;I am building a custom MVC project and I ha...</td>\n",
       "    </tr>\n",
       "    <tr>\n",
       "      <th>1264212</th>\n",
       "      <td>40143300</td>\n",
       "      <td>3791161.0</td>\n",
       "      <td>2016-10-19T23:48:09Z</td>\n",
       "      <td>NaN</td>\n",
       "      <td>0</td>\n",
       "      <td>Bigquery.Jobs.Insert - Resumable Upload?</td>\n",
       "      <td>&lt;p&gt;The API docs show that you should be able t...</td>\n",
       "    </tr>\n",
       "    <tr>\n",
       "      <th>1264213</th>\n",
       "      <td>40143340</td>\n",
       "      <td>7028647.0</td>\n",
       "      <td>2016-10-19T23:52:50Z</td>\n",
       "      <td>NaN</td>\n",
       "      <td>1</td>\n",
       "      <td>Obfuscating code in android studio</td>\n",
       "      <td>&lt;p&gt;Under minifyEnabled I changed from false to...</td>\n",
       "    </tr>\n",
       "    <tr>\n",
       "      <th>1264214</th>\n",
       "      <td>40143360</td>\n",
       "      <td>871677.0</td>\n",
       "      <td>2016-10-19T23:55:24Z</td>\n",
       "      <td>NaN</td>\n",
       "      <td>0</td>\n",
       "      <td>How to fire function after v-model change?</td>\n",
       "      <td>&lt;p&gt;I have input which I use to filter my array...</td>\n",
       "    </tr>\n",
       "    <tr>\n",
       "      <th>1264215</th>\n",
       "      <td>40143380</td>\n",
       "      <td>6823982.0</td>\n",
       "      <td>2016-10-19T23:57:31Z</td>\n",
       "      <td>NaN</td>\n",
       "      <td>0</td>\n",
       "      <td>npm run mocha test - files being cached</td>\n",
       "      <td>&lt;p&gt;I'm running a mocha test and I noticed my c...</td>\n",
       "    </tr>\n",
       "  </tbody>\n",
       "</table>\n",
       "<p>1264216 rows × 7 columns</p>\n",
       "</div>"
      ],
      "text/plain": [
       "               Id  OwnerUserId          CreationDate            ClosedDate  \\\n",
       "0              80         26.0  2008-08-01T13:57:07Z                   NaN   \n",
       "1              90         58.0  2008-08-01T14:41:24Z  2012-12-26T03:45:49Z   \n",
       "2             120         83.0  2008-08-01T15:50:08Z                   NaN   \n",
       "3             180    2089740.0  2008-08-01T18:42:19Z                   NaN   \n",
       "4             260         91.0  2008-08-01T23:22:08Z                   NaN   \n",
       "...           ...          ...                   ...                   ...   \n",
       "1264211  40143210    5610777.0  2016-10-19T23:38:01Z                   NaN   \n",
       "1264212  40143300    3791161.0  2016-10-19T23:48:09Z                   NaN   \n",
       "1264213  40143340    7028647.0  2016-10-19T23:52:50Z                   NaN   \n",
       "1264214  40143360     871677.0  2016-10-19T23:55:24Z                   NaN   \n",
       "1264215  40143380    6823982.0  2016-10-19T23:57:31Z                   NaN   \n",
       "\n",
       "         Score                                              Title  \\\n",
       "0           26  SQLStatement.execute() - multiple queries in o...   \n",
       "1          144  Good branching and merging tutorials for Torto...   \n",
       "2           21                                  ASP.NET Site Maps   \n",
       "3           53                 Function for creating color wheels   \n",
       "4           49  Adding scripting functionality to .NET applica...   \n",
       "...        ...                                                ...   \n",
       "1264211      0                           URL routing in PHP (MVC)   \n",
       "1264212      0           Bigquery.Jobs.Insert - Resumable Upload?   \n",
       "1264213      1                 Obfuscating code in android studio   \n",
       "1264214      0         How to fire function after v-model change?   \n",
       "1264215      0            npm run mocha test - files being cached   \n",
       "\n",
       "                                                      Body  \n",
       "0        <p>I've written a database generation script i...  \n",
       "1        <p>Are there any really good tutorials explain...  \n",
       "2        <p>Has anyone got experience creating <strong>...  \n",
       "3        <p>This is something I've pseudo-solved many t...  \n",
       "4        <p>I have a little game written in C#. It uses...  \n",
       "...                                                    ...  \n",
       "1264211  <p>I am building a custom MVC project and I ha...  \n",
       "1264212  <p>The API docs show that you should be able t...  \n",
       "1264213  <p>Under minifyEnabled I changed from false to...  \n",
       "1264214  <p>I have input which I use to filter my array...  \n",
       "1264215  <p>I'm running a mocha test and I noticed my c...  \n",
       "\n",
       "[1264216 rows x 7 columns]"
      ]
     },
     "execution_count": 39,
     "metadata": {},
     "output_type": "execute_result"
    }
   ],
   "source": [
    "questions.Id.nunique()\n",
    "questions.sort_values(by='Id')"
   ]
  },
  {
   "cell_type": "code",
   "execution_count": 57,
   "id": "91b701f0-1aa3-4427-88c7-fe33be3016bc",
   "metadata": {},
   "outputs": [
    {
     "data": {
      "text/html": [
       "<div>\n",
       "<style scoped>\n",
       "    .dataframe tbody tr th:only-of-type {\n",
       "        vertical-align: middle;\n",
       "    }\n",
       "\n",
       "    .dataframe tbody tr th {\n",
       "        vertical-align: top;\n",
       "    }\n",
       "\n",
       "    .dataframe thead th {\n",
       "        text-align: right;\n",
       "    }\n",
       "</style>\n",
       "<table border=\"1\" class=\"dataframe\">\n",
       "  <thead>\n",
       "    <tr style=\"text-align: right;\">\n",
       "      <th></th>\n",
       "      <th>Id</th>\n",
       "      <th>OwnerUserId</th>\n",
       "      <th>CreationDate</th>\n",
       "      <th>ClosedDate</th>\n",
       "      <th>Score</th>\n",
       "      <th>Title</th>\n",
       "      <th>Body</th>\n",
       "    </tr>\n",
       "  </thead>\n",
       "  <tbody>\n",
       "    <tr>\n",
       "      <th>0</th>\n",
       "      <td>80</td>\n",
       "      <td>26.0</td>\n",
       "      <td>2008-08-01T13:57:07Z</td>\n",
       "      <td>NaN</td>\n",
       "      <td>26</td>\n",
       "      <td>SQLStatement.execute() - multiple queries in o...</td>\n",
       "      <td>&lt;p&gt;I've written a database generation script i...</td>\n",
       "    </tr>\n",
       "  </tbody>\n",
       "</table>\n",
       "</div>"
      ],
      "text/plain": [
       "   Id  OwnerUserId          CreationDate ClosedDate  Score  \\\n",
       "0  80         26.0  2008-08-01T13:57:07Z        NaN     26   \n",
       "\n",
       "                                               Title  \\\n",
       "0  SQLStatement.execute() - multiple queries in o...   \n",
       "\n",
       "                                                Body  \n",
       "0  <p>I've written a database generation script i...  "
      ]
     },
     "execution_count": 57,
     "metadata": {},
     "output_type": "execute_result"
    }
   ],
   "source": [
    "questions[questions.Id==80]"
   ]
  },
  {
   "cell_type": "markdown",
   "id": "61ed5c89-c60f-437d-a43b-6ca52caa8932",
   "metadata": {},
   "source": [
    "#### Answers"
   ]
  },
  {
   "cell_type": "code",
   "execution_count": 11,
   "id": "6466507d-7a97-4c27-9dcc-ec510a45224f",
   "metadata": {},
   "outputs": [],
   "source": [
    "answers = pd.read_csv(data_path / 'Answers.csv', encoding=\"ISO-8859-1\")"
   ]
  },
  {
   "cell_type": "code",
   "execution_count": 38,
   "id": "b7afc862-fa6e-4635-9d26-ad9e2bb03c45",
   "metadata": {},
   "outputs": [
    {
     "data": {
      "text/plain": [
       "2014516"
      ]
     },
     "execution_count": 38,
     "metadata": {},
     "output_type": "execute_result"
    },
    {
     "data": {
      "text/html": [
       "<div>\n",
       "<style scoped>\n",
       "    .dataframe tbody tr th:only-of-type {\n",
       "        vertical-align: middle;\n",
       "    }\n",
       "\n",
       "    .dataframe tbody tr th {\n",
       "        vertical-align: top;\n",
       "    }\n",
       "\n",
       "    .dataframe thead th {\n",
       "        text-align: right;\n",
       "    }\n",
       "</style>\n",
       "<table border=\"1\" class=\"dataframe\">\n",
       "  <thead>\n",
       "    <tr style=\"text-align: right;\">\n",
       "      <th></th>\n",
       "      <th>Id</th>\n",
       "      <th>OwnerUserId</th>\n",
       "      <th>CreationDate</th>\n",
       "      <th>ParentId</th>\n",
       "      <th>Score</th>\n",
       "      <th>Body</th>\n",
       "    </tr>\n",
       "  </thead>\n",
       "  <tbody>\n",
       "    <tr>\n",
       "      <th>1</th>\n",
       "      <td>124</td>\n",
       "      <td>26.0</td>\n",
       "      <td>2008-08-01T16:09:47Z</td>\n",
       "      <td>80</td>\n",
       "      <td>12</td>\n",
       "      <td>&lt;p&gt;I wound up using this. It is a kind of a ha...</td>\n",
       "    </tr>\n",
       "    <tr>\n",
       "      <th>219787</th>\n",
       "      <td>3770976</td>\n",
       "      <td>364174.0</td>\n",
       "      <td>2010-09-22T15:37:30Z</td>\n",
       "      <td>80</td>\n",
       "      <td>1</td>\n",
       "      <td>&lt;p&gt;What about making your delimiter something ...</td>\n",
       "    </tr>\n",
       "    <tr>\n",
       "      <th>336</th>\n",
       "      <td>10008</td>\n",
       "      <td>1109.0</td>\n",
       "      <td>2008-08-13T16:09:09Z</td>\n",
       "      <td>80</td>\n",
       "      <td>6</td>\n",
       "      <td>&lt;p&gt;The &lt;a href=\"http://en.wikipedia.org/wiki/S...</td>\n",
       "    </tr>\n",
       "    <tr>\n",
       "      <th>0</th>\n",
       "      <td>92</td>\n",
       "      <td>61.0</td>\n",
       "      <td>2008-08-01T14:45:37Z</td>\n",
       "      <td>90</td>\n",
       "      <td>13</td>\n",
       "      <td>&lt;p&gt;&lt;a href=\"http://svnbook.red-bean.com/\"&gt;Vers...</td>\n",
       "    </tr>\n",
       "    <tr>\n",
       "      <th>10748</th>\n",
       "      <td>202317</td>\n",
       "      <td>20709.0</td>\n",
       "      <td>2008-10-14T18:41:45Z</td>\n",
       "      <td>90</td>\n",
       "      <td>2</td>\n",
       "      <td>&lt;p&gt;You can also try &lt;em&gt;&lt;a href=\"http://www.co...</td>\n",
       "    </tr>\n",
       "    <tr>\n",
       "      <th>...</th>\n",
       "      <td>...</td>\n",
       "      <td>...</td>\n",
       "      <td>...</td>\n",
       "      <td>...</td>\n",
       "      <td>...</td>\n",
       "      <td>...</td>\n",
       "    </tr>\n",
       "    <tr>\n",
       "      <th>2014515</th>\n",
       "      <td>40143389</td>\n",
       "      <td>4464432.0</td>\n",
       "      <td>2016-10-19T23:58:58Z</td>\n",
       "      <td>40142910</td>\n",
       "      <td>0</td>\n",
       "      <td>&lt;p&gt;Try add &lt;code&gt;retrun false&lt;/code&gt; in the &lt;c...</td>\n",
       "    </tr>\n",
       "    <tr>\n",
       "      <th>2014501</th>\n",
       "      <td>40143139</td>\n",
       "      <td>6107989.0</td>\n",
       "      <td>2016-10-19T23:30:12Z</td>\n",
       "      <td>40142940</td>\n",
       "      <td>1</td>\n",
       "      <td>&lt;p&gt;Alternative to @space_voyager this code sup...</td>\n",
       "    </tr>\n",
       "    <tr>\n",
       "      <th>2014495</th>\n",
       "      <td>40142997</td>\n",
       "      <td>4605946.0</td>\n",
       "      <td>2016-10-19T23:15:02Z</td>\n",
       "      <td>40142940</td>\n",
       "      <td>0</td>\n",
       "      <td>&lt;p&gt;Here's how you can do it:&lt;/p&gt;\\n\\n&lt;pre&gt;&lt;code...</td>\n",
       "    </tr>\n",
       "    <tr>\n",
       "      <th>2014508</th>\n",
       "      <td>40143212</td>\n",
       "      <td>1491895.0</td>\n",
       "      <td>2016-10-19T23:38:17Z</td>\n",
       "      <td>40143190</td>\n",
       "      <td>5</td>\n",
       "      <td>&lt;p&gt;Use a here-doc:&lt;/p&gt;\\n\\n&lt;pre&gt;&lt;code&gt;result=$(...</td>\n",
       "    </tr>\n",
       "    <tr>\n",
       "      <th>2014511</th>\n",
       "      <td>40143247</td>\n",
       "      <td>333403.0</td>\n",
       "      <td>2016-10-19T23:42:35Z</td>\n",
       "      <td>40143190</td>\n",
       "      <td>0</td>\n",
       "      <td>&lt;p&gt;Tanks to &lt;a href=\"http://stackoverflow.com/...</td>\n",
       "    </tr>\n",
       "  </tbody>\n",
       "</table>\n",
       "<p>2014516 rows × 6 columns</p>\n",
       "</div>"
      ],
      "text/plain": [
       "               Id  OwnerUserId          CreationDate  ParentId  Score  \\\n",
       "1             124         26.0  2008-08-01T16:09:47Z        80     12   \n",
       "219787    3770976     364174.0  2010-09-22T15:37:30Z        80      1   \n",
       "336         10008       1109.0  2008-08-13T16:09:09Z        80      6   \n",
       "0              92         61.0  2008-08-01T14:45:37Z        90     13   \n",
       "10748      202317      20709.0  2008-10-14T18:41:45Z        90      2   \n",
       "...           ...          ...                   ...       ...    ...   \n",
       "2014515  40143389    4464432.0  2016-10-19T23:58:58Z  40142910      0   \n",
       "2014501  40143139    6107989.0  2016-10-19T23:30:12Z  40142940      1   \n",
       "2014495  40142997    4605946.0  2016-10-19T23:15:02Z  40142940      0   \n",
       "2014508  40143212    1491895.0  2016-10-19T23:38:17Z  40143190      5   \n",
       "2014511  40143247     333403.0  2016-10-19T23:42:35Z  40143190      0   \n",
       "\n",
       "                                                      Body  \n",
       "1        <p>I wound up using this. It is a kind of a ha...  \n",
       "219787   <p>What about making your delimiter something ...  \n",
       "336      <p>The <a href=\"http://en.wikipedia.org/wiki/S...  \n",
       "0        <p><a href=\"http://svnbook.red-bean.com/\">Vers...  \n",
       "10748    <p>You can also try <em><a href=\"http://www.co...  \n",
       "...                                                    ...  \n",
       "2014515  <p>Try add <code>retrun false</code> in the <c...  \n",
       "2014501  <p>Alternative to @space_voyager this code sup...  \n",
       "2014495  <p>Here's how you can do it:</p>\\n\\n<pre><code...  \n",
       "2014508  <p>Use a here-doc:</p>\\n\\n<pre><code>result=$(...  \n",
       "2014511  <p>Tanks to <a href=\"http://stackoverflow.com/...  \n",
       "\n",
       "[2014516 rows x 6 columns]"
      ]
     },
     "execution_count": 38,
     "metadata": {},
     "output_type": "execute_result"
    }
   ],
   "source": [
    "answers.Id.nunique()\n",
    "answers.sort_values(by='ParentId')"
   ]
  },
  {
   "cell_type": "markdown",
   "id": "4fb0795c-1c7b-42e1-8788-e6fd35aa16e8",
   "metadata": {
    "tags": []
   },
   "source": [
    "#### Tags"
   ]
  },
  {
   "cell_type": "code",
   "execution_count": 36,
   "id": "d2ea4155-3fe5-4f44-a6a9-e8f17873835f",
   "metadata": {},
   "outputs": [],
   "source": [
    "tags = pd.read_csv(data_path / 'Tags.csv', encoding=\"ISO-8859-1\")"
   ]
  },
  {
   "cell_type": "code",
   "execution_count": 40,
   "id": "f06c38e4-4c64-4e6a-a259-eba749919cf4",
   "metadata": {},
   "outputs": [
    {
     "data": {
      "text/plain": [
       "1264216"
      ]
     },
     "execution_count": 40,
     "metadata": {},
     "output_type": "execute_result"
    },
    {
     "data": {
      "text/html": [
       "<div>\n",
       "<style scoped>\n",
       "    .dataframe tbody tr th:only-of-type {\n",
       "        vertical-align: middle;\n",
       "    }\n",
       "\n",
       "    .dataframe tbody tr th {\n",
       "        vertical-align: top;\n",
       "    }\n",
       "\n",
       "    .dataframe thead th {\n",
       "        text-align: right;\n",
       "    }\n",
       "</style>\n",
       "<table border=\"1\" class=\"dataframe\">\n",
       "  <thead>\n",
       "    <tr style=\"text-align: right;\">\n",
       "      <th></th>\n",
       "      <th>Id</th>\n",
       "      <th>Tag</th>\n",
       "    </tr>\n",
       "  </thead>\n",
       "  <tbody>\n",
       "    <tr>\n",
       "      <th>0</th>\n",
       "      <td>80</td>\n",
       "      <td>flex</td>\n",
       "    </tr>\n",
       "    <tr>\n",
       "      <th>1</th>\n",
       "      <td>80</td>\n",
       "      <td>actionscript-3</td>\n",
       "    </tr>\n",
       "    <tr>\n",
       "      <th>2</th>\n",
       "      <td>80</td>\n",
       "      <td>air</td>\n",
       "    </tr>\n",
       "    <tr>\n",
       "      <th>3</th>\n",
       "      <td>90</td>\n",
       "      <td>svn</td>\n",
       "    </tr>\n",
       "    <tr>\n",
       "      <th>4</th>\n",
       "      <td>90</td>\n",
       "      <td>tortoisesvn</td>\n",
       "    </tr>\n",
       "    <tr>\n",
       "      <th>...</th>\n",
       "      <td>...</td>\n",
       "      <td>...</td>\n",
       "    </tr>\n",
       "    <tr>\n",
       "      <th>3750989</th>\n",
       "      <td>40143360</td>\n",
       "      <td>javascript</td>\n",
       "    </tr>\n",
       "    <tr>\n",
       "      <th>3750990</th>\n",
       "      <td>40143360</td>\n",
       "      <td>vue.js</td>\n",
       "    </tr>\n",
       "    <tr>\n",
       "      <th>3750992</th>\n",
       "      <td>40143380</td>\n",
       "      <td>mocha</td>\n",
       "    </tr>\n",
       "    <tr>\n",
       "      <th>3750991</th>\n",
       "      <td>40143380</td>\n",
       "      <td>npm</td>\n",
       "    </tr>\n",
       "    <tr>\n",
       "      <th>3750993</th>\n",
       "      <td>40143380</td>\n",
       "      <td>babel</td>\n",
       "    </tr>\n",
       "  </tbody>\n",
       "</table>\n",
       "<p>3750994 rows × 2 columns</p>\n",
       "</div>"
      ],
      "text/plain": [
       "               Id             Tag\n",
       "0              80            flex\n",
       "1              80  actionscript-3\n",
       "2              80             air\n",
       "3              90             svn\n",
       "4              90     tortoisesvn\n",
       "...           ...             ...\n",
       "3750989  40143360      javascript\n",
       "3750990  40143360          vue.js\n",
       "3750992  40143380           mocha\n",
       "3750991  40143380             npm\n",
       "3750993  40143380           babel\n",
       "\n",
       "[3750994 rows x 2 columns]"
      ]
     },
     "execution_count": 40,
     "metadata": {},
     "output_type": "execute_result"
    }
   ],
   "source": [
    "tags.Id.nunique()\n",
    "tags.sort_values(by='Id')"
   ]
  },
  {
   "cell_type": "code",
   "execution_count": 227,
   "id": "fedc7b27-acb0-4738-a385-1f718cefd73e",
   "metadata": {},
   "outputs": [],
   "source": [
    "class StackOverflow:\n",
    "    \n",
    "    def __init__(self, questions, answers, tags):\n",
    "        self.questions = questions\n",
    "        self.answers = answers\n",
    "        self.tags = tags\n",
    "        \n",
    "    @staticmethod\n",
    "    def extract_tags(t):\n",
    "        return ', '.join(list(t.Tag.values))\n",
    "        \n",
    "    def display_question(self, id):\n",
    "        mask = self.questions.Id==id\n",
    "        q = self.questions[mask]\n",
    "        \n",
    "        display(HTML(\"<h1>Question<h1>\"))\n",
    "        display(HTML(f\"<h3>{q.Title.values[0]}</h3>\"))\n",
    "        display(HTML(\"<br>\"))\n",
    "        display(HTML(q.Body.values[0]))\n",
    "        \n",
    "        \n",
    "        \n",
    "    def display_answer(self, id):\n",
    "        mask = self.answers.ParentId==id\n",
    "        a = self.answers[mask].sort_values(by='Score', ascending=False).reset_index()\n",
    "        \n",
    "        display(HTML(\"<h1>Answers</h1>\"))\n",
    "        for ii_answer in a.itertuples():\n",
    "            display(HTML(f\"<h4>Answer {ii_answer.Index + 1} ({ii_answer.Score})</h4>\"))\n",
    "            display(HTML(ii_answer.Body))\n",
    "        \n",
    "    def display_tag(self, id):\n",
    "        mask = self.tags.Id==id\n",
    "        t = self.tags[mask]\n",
    "    \n",
    "        tag_csv = self.extract_tags(t)\n",
    "        \n",
    "        display(HTML(f\"<h1>Tags:</h1>\")) # <h2>{tag_csv}<h2>\"))\n",
    "        display(HTML(f\"<h4>{tag_csv}</h4>\"))\n",
    "        display(HTML(\"<br>\"))\n",
    "        \n",
    "    def display(self,id):\n",
    "        self.display_tag(id)\n",
    "        self.display_question(id)\n",
    "        self.display_answer(id)\n"
   ]
  },
  {
   "cell_type": "code",
   "execution_count": 228,
   "id": "6b371659-4b9f-4031-abf6-55c6ecae00c7",
   "metadata": {},
   "outputs": [],
   "source": [
    "so = StackOverflow(questions, answers, tags)"
   ]
  },
  {
   "cell_type": "code",
   "execution_count": 233,
   "id": "bc9f8592-a32d-4df6-a3fa-27b4ed20c849",
   "metadata": {},
   "outputs": [
    {
     "data": {
      "text/plain": [
       "array([ 80,  90, 120, 180, 260])"
      ]
     },
     "execution_count": 233,
     "metadata": {},
     "output_type": "execute_result"
    }
   ],
   "source": [
    "questions.head(5).Id.unique()"
   ]
  },
  {
   "cell_type": "code",
   "execution_count": 234,
   "id": "3cc03adf-c2d7-45cb-92cd-2d45f3b264cb",
   "metadata": {},
   "outputs": [
    {
     "data": {
      "text/html": [
       "<h1>Tags:</h1>"
      ],
      "text/plain": [
       "<IPython.core.display.HTML object>"
      ]
     },
     "metadata": {},
     "output_type": "display_data"
    },
    {
     "data": {
      "text/html": [
       "<h4>algorithm, language-agnostic, colors, color-space</h4>"
      ],
      "text/plain": [
       "<IPython.core.display.HTML object>"
      ]
     },
     "metadata": {},
     "output_type": "display_data"
    },
    {
     "data": {
      "text/html": [
       "<br>"
      ],
      "text/plain": [
       "<IPython.core.display.HTML object>"
      ]
     },
     "metadata": {},
     "output_type": "display_data"
    },
    {
     "data": {
      "text/html": [
       "<h1>Question<h1>"
      ],
      "text/plain": [
       "<IPython.core.display.HTML object>"
      ]
     },
     "metadata": {},
     "output_type": "display_data"
    },
    {
     "data": {
      "text/html": [
       "<h3>Function for creating color wheels</h3>"
      ],
      "text/plain": [
       "<IPython.core.display.HTML object>"
      ]
     },
     "metadata": {},
     "output_type": "display_data"
    },
    {
     "data": {
      "text/html": [
       "<br>"
      ],
      "text/plain": [
       "<IPython.core.display.HTML object>"
      ]
     },
     "metadata": {},
     "output_type": "display_data"
    },
    {
     "data": {
      "text/html": [
       "<p>This is something I've pseudo-solved many times and never quite found a solution. That's stuck with me. The problem is to come up with a way to generate <code>N</code> colors, that are as distinguishable as possible where <code>N</code> is a parameter.</p>\n"
      ],
      "text/plain": [
       "<IPython.core.display.HTML object>"
      ]
     },
     "metadata": {},
     "output_type": "display_data"
    },
    {
     "data": {
      "text/html": [
       "<h1>Answers</h1>"
      ],
      "text/plain": [
       "<IPython.core.display.HTML object>"
      ]
     },
     "metadata": {},
     "output_type": "display_data"
    },
    {
     "data": {
      "text/html": [
       "<h4>Answer 1 (21)</h4>"
      ],
      "text/plain": [
       "<IPython.core.display.HTML object>"
      ]
     },
     "metadata": {},
     "output_type": "display_data"
    },
    {
     "data": {
      "text/html": [
       "<p>My first thought on this is \"how generate N vectors in a space that maximize distance from each other.\" You can see that the RGB (or any other scale you use that forms a basis in color space) are just vectors. Take a look at <a href=\"http://mathworld.wolfram.com/topics/RandomPointPicking.html\">Random Point Picking</a>. Hope this is a good start for you! Once you have a set of vectors that are maximized a part, you can save them in a hash table or something for later, and just perform random rotations on them to get all the colors you desire that are maximally apart from each other!</p>\n",
       "\n",
       "<p><strong>Edit:</strong> Thinking about this problem more, it would be better to map the colors in a linear manor, possibly (0,0,0) --> (255,255,255) lexicographically, and then distribute them evenly. I really don't know how well this will work, but it should since, lets say:</p>\n",
       "\n",
       "<p>n = 10\n",
       "we know we have 16777216 colors (256^3). We can use <a href=\"http://stackoverflow.com/questions/561/using-combinations-of-sets-as-test-data#794\">buckles algorithm 515</a> to find the lexicographically indexed color.<img src=\"http://i.stack.imgur.com/gEuCs.gif\" alt=\"\\frac {\\binom {256^3} {3}} {n} * i\">. You'll probably have to edit the algorithm to avoid overflow and probably add some minor speed improvements.</p>\n"
      ],
      "text/plain": [
       "<IPython.core.display.HTML object>"
      ]
     },
     "metadata": {},
     "output_type": "display_data"
    },
    {
     "data": {
      "text/html": [
       "<h4>Answer 2 (17)</h4>"
      ],
      "text/plain": [
       "<IPython.core.display.HTML object>"
      ]
     },
     "metadata": {},
     "output_type": "display_data"
    },
    {
     "data": {
      "text/html": [
       "<p>It would be best to find colors maximally distant in a \"perceptually uniform\" colorspace, e.g. CIELAB (using Euclidean distance between L*, a*, b* coordinates as your distance metric) and then converting to the colorspace of your choice.  Perceptual uniformity is achieved by tweaking the colorspace to approximate the non-linearities in the human visual system.</p>\n"
      ],
      "text/plain": [
       "<IPython.core.display.HTML object>"
      ]
     },
     "metadata": {},
     "output_type": "display_data"
    },
    {
     "data": {
      "text/html": [
       "<h4>Answer 3 (7)</h4>"
      ],
      "text/plain": [
       "<IPython.core.display.HTML object>"
      ]
     },
     "metadata": {},
     "output_type": "display_data"
    },
    {
     "data": {
      "text/html": [
       "<p>Some related resources:</p>\n",
       "\n",
       "<p><a href=\"http://colorbrewer.org\">ColorBrewer</a> - Sets of colours designed to be maximally distinguishable for use on maps.</p>\n",
       "\n",
       "<p><a href=\"http://epub.wu-wien.ac.at/dyn/openURL?id=oai:epub.wu-wien.ac.at:epub-wu-01_c87\">Escaping RGBland: Selecting Colors for Statistical Graphics</a> - A technical report describing a set of algorithms for generating good (i.e. maximally distinguishable) colour sets in the hcl colour space.</p>\n"
      ],
      "text/plain": [
       "<IPython.core.display.HTML object>"
      ]
     },
     "metadata": {},
     "output_type": "display_data"
    },
    {
     "data": {
      "text/html": [
       "<h4>Answer 4 (4)</h4>"
      ],
      "text/plain": [
       "<IPython.core.display.HTML object>"
      ]
     },
     "metadata": {},
     "output_type": "display_data"
    },
    {
     "data": {
      "text/html": [
       "<p>Here is some code to allocate RGB colors evenly around a HSL color wheel of specified luminosity.</p>\n",
       "\n",
       "<pre><code>class cColorPicker\n",
       "{\n",
       "public:\n",
       "    void Pick( vector&lt;DWORD&gt;&amp;v_picked_cols, int count, int bright = 50 );\n",
       "private:\n",
       "    DWORD HSL2RGB( int h, int s, int v );\n",
       "    unsigned char ToRGB1(float rm1, float rm2, float rh);\n",
       "};\n",
       "/**\n",
       "\n",
       "  Evenly allocate RGB colors around HSL color wheel\n",
       "\n",
       "  @param[out] v_picked_cols  a vector of colors in RGB format\n",
       "  @param[in]  count   number of colors required\n",
       "  @param[in]  bright  0 is all black, 100 is all white, defaults to 50\n",
       "\n",
       "  based on Fig 3 of http://epub.wu-wien.ac.at/dyn/virlib/wp/eng/mediate/epub-wu-01_c87.pdf?ID=epub-wu-01_c87\n",
       "\n",
       "*/\n",
       "\n",
       "void cColorPicker::Pick( vector&lt;DWORD&gt;&amp;v_picked_cols, int count, int bright )\n",
       "{\n",
       "    v_picked_cols.clear();\n",
       "    for( int k_hue = 0; k_hue &lt; 360; k_hue += 360/count )\n",
       "        v_picked_cols.push_back( HSL2RGB( k_hue, 100, bright ) );\n",
       "}\n",
       "/**\n",
       "\n",
       "  Convert HSL to RGB\n",
       "\n",
       "  based on http://www.codeguru.com/code/legacy/gdi/colorapp_src.zip\n",
       "\n",
       "*/\n",
       "\n",
       "DWORD cColorPicker::HSL2RGB( int h, int s, int l )\n",
       "{\n",
       "    DWORD ret = 0;\n",
       "    unsigned char r,g,b;\n",
       "\n",
       "    float saturation = s / 100.0f;\n",
       "    float luminance = l / 100.f;\n",
       "    float hue = (float)h;\n",
       "\n",
       "    if (saturation == 0.0) \n",
       "    {\n",
       "      r = g = b = unsigned char(luminance * 255.0);\n",
       "    }\n",
       "    else\n",
       "    {\n",
       "      float rm1, rm2;\n",
       "\n",
       "      if (luminance &lt;= 0.5f) rm2 = luminance + luminance * saturation;  \n",
       "      else                     rm2 = luminance + saturation - luminance * saturation;\n",
       "      rm1 = 2.0f * luminance - rm2;   \n",
       "      r   = ToRGB1(rm1, rm2, hue + 120.0f);   \n",
       "      g = ToRGB1(rm1, rm2, hue);\n",
       "      b  = ToRGB1(rm1, rm2, hue - 120.0f);\n",
       "    }\n",
       "\n",
       "    ret = ((DWORD)(((BYTE)(r)|((WORD)((BYTE)(g))&lt;&lt;8))|(((DWORD)(BYTE)(b))&lt;&lt;16)));\n",
       "\n",
       "    return ret;\n",
       "}\n",
       "\n",
       "\n",
       "unsigned char cColorPicker::ToRGB1(float rm1, float rm2, float rh)\n",
       "{\n",
       "  if      (rh &gt; 360.0f) rh -= 360.0f;\n",
       "  else if (rh &lt;   0.0f) rh += 360.0f;\n",
       "\n",
       "  if      (rh &lt;  60.0f) rm1 = rm1 + (rm2 - rm1) * rh / 60.0f;   \n",
       "  else if (rh &lt; 180.0f) rm1 = rm2;\n",
       "  else if (rh &lt; 240.0f) rm1 = rm1 + (rm2 - rm1) * (240.0f - rh) / 60.0f;      \n",
       "\n",
       "  return static_cast&lt;unsigned char&gt;(rm1 * 255);\n",
       "}\n",
       "\n",
       "int _tmain(int argc, _TCHAR* argv[])\n",
       "{\n",
       "    vector&lt;DWORD&gt; myCols;\n",
       "    cColorPicker colpick;\n",
       "    colpick.Pick( myCols, 20 );\n",
       "    for( int k = 0; k &lt; (int)myCols.size(); k++ )\n",
       "        printf(\"%d: %d %d %d\\n\", k+1,\n",
       "        ( myCols[k] &amp; 0xFF0000 ) &gt;&gt;16,\n",
       "        ( myCols[k] &amp; 0xFF00 ) &gt;&gt;8,\n",
       "        ( myCols[k] &amp; 0xFF ) );\n",
       "\n",
       "    return 0;\n",
       "}\n",
       "</code></pre>\n"
      ],
      "text/plain": [
       "<IPython.core.display.HTML object>"
      ]
     },
     "metadata": {},
     "output_type": "display_data"
    },
    {
     "data": {
      "text/html": [
       "<h4>Answer 5 (3)</h4>"
      ],
      "text/plain": [
       "<IPython.core.display.HTML object>"
      ]
     },
     "metadata": {},
     "output_type": "display_data"
    },
    {
     "data": {
      "text/html": [
       "<p>Isn't it also a factor which order you set up the colors?</p>\r\n",
       "\r\n",
       "<p>Like if you use Dillie-Os idea you need to mix the colors as much as possible. \r\n",
       "0 64 128 256 is from one to the next. but 0 256 64 128 in a wheel would be more \"apart\"</p>\r\n",
       "\r\n",
       "<p>Does this make sense?</p>"
      ],
      "text/plain": [
       "<IPython.core.display.HTML object>"
      ]
     },
     "metadata": {},
     "output_type": "display_data"
    },
    {
     "data": {
      "text/html": [
       "<h4>Answer 6 (1)</h4>"
      ],
      "text/plain": [
       "<IPython.core.display.HTML object>"
      ]
     },
     "metadata": {},
     "output_type": "display_data"
    },
    {
     "data": {
      "text/html": [
       "<p>I've read somewhere the human eye can't distinguish between less than 4 values apart. so This is something to keep in mind. The following algorithm does not compensate for this.</p>\r\n",
       "\r\n",
       "<p>I'm not sure this is exactly what you want, but this is one way to randomly generate non-repeating color values:</p>\r\n",
       "\r\n",
       "<p>(beware, inconsistent pseudo-code ahead)</p>\r\n",
       "\r\n",
       "<pre><code>//colors entered as 0-255 [R, G, B]<br>colors = []; //holds final colors to be used<br>rand = new Random();<br><br>//assumes n is less than 16,777,216<br>randomGen(int n){<br>   while (len(colors) &lt; n){<br>      //generate a random number between 0,255 for each color<br>      newRed = rand.next(256);<br>      newGreen = rand.next(256);<br>      newBlue = rand.next(256);<br>      temp = [newRed, newGreen, newBlue];<br>      //only adds new colors to the array<br>      if temp not in colors {<br>         colors.append(temp);<br>      }<br>   }<br>}<br></code></pre>\r\n",
       "\r\n",
       "<p>One way you could optimize this for better visibility would be to compare the distance between each new color and all the colors in the array:</p>\r\n",
       "\r\n",
       "<pre><code>for item in color{<br>   itemSq = (item[0]^2 + item[1]^2 + item[2]^2])^(.5);<br>   tempSq = (temp[0]^2 + temp[1]^2 + temp[2]^2])^(.5);<br>   dist = itemSq - tempSq;<br>   dist = abs(dist);<br>}<br>//NUMBER can be your chosen distance apart.<br>if dist &lt; NUMBER and temp not in colors {<br>   colors.append(temp);<br>}<br></code></pre>\r\n",
       "\r\n",
       "<p>But this approach would significantly slow down your algorithm.</p>\r\n",
       "\r\n",
       "<p>Another way would be to scrap the randomness and systematically go through every 4 values and add a color to an array in the above example.</p>"
      ],
      "text/plain": [
       "<IPython.core.display.HTML object>"
      ]
     },
     "metadata": {},
     "output_type": "display_data"
    },
    {
     "data": {
      "text/html": [
       "<h4>Answer 7 (1)</h4>"
      ],
      "text/plain": [
       "<IPython.core.display.HTML object>"
      ]
     },
     "metadata": {},
     "output_type": "display_data"
    },
    {
     "data": {
      "text/html": [
       "<p>I know this an old post but I found it while looking for a PHP solution to the topic and finally came with a simple solution:</p>\n",
       "\n",
       "<pre><code>function random_color($i = null, $n = 10, $sat = .5, $br = .7) {\n",
       "    $i = is_null($i) ? mt_rand(0,$n) : $i;\n",
       "    $rgb = hsv2rgb(array($i*(360/$n), $sat, $br));\n",
       "    for ($i=0 ; $i&lt;=2 ; $i++) \n",
       "        $rgb[$i] = dechex(ceil($rgb[$i]));\n",
       "    return implode('', $rgb);\n",
       "}\n",
       "\n",
       "function hsv2rgb($c) { \n",
       "    list($h,$s,$v)=$c; \n",
       "    if ($s==0) \n",
       "        return array($v,$v,$v); \n",
       "    else { \n",
       "        $h=($h%=360)/60; \n",
       "        $i=floor($h); \n",
       "        $f=$h-$i; \n",
       "        $q[0]=$q[1]=$v*(1-$s); \n",
       "        $q[2]=$v*(1-$s*(1-$f)); \n",
       "        $q[3]=$q[4]=$v; \n",
       "        $q[5]=$v*(1-$s*$f); \n",
       "        return(array($q[($i+4)%6]*255,$q[($i+2)%6]*255,$q[$i%6]*255)); //[1] \n",
       "    } \n",
       "}\n",
       "</code></pre>\n",
       "\n",
       "<p>So just call the random_color() function where $i identifies the color, $n the number of possible colors, $sat the saturation and $br the brightness.</p>\n"
      ],
      "text/plain": [
       "<IPython.core.display.HTML object>"
      ]
     },
     "metadata": {},
     "output_type": "display_data"
    },
    {
     "data": {
      "text/html": [
       "<h4>Answer 8 (0)</h4>"
      ],
      "text/plain": [
       "<IPython.core.display.HTML object>"
      ]
     },
     "metadata": {},
     "output_type": "display_data"
    },
    {
     "data": {
      "text/html": [
       "<p>Last I checked <a href=\"http://www.jfree.org/jfreechart/\" rel=\"nofollow\">JFreeChart</a> has this precise algorithm and as it is open source you can check out what it does.  I do know that the colors I get do not seem to be randomly spaced along some circle or sphere, but rather chosen more specifically.</p>\n"
      ],
      "text/plain": [
       "<IPython.core.display.HTML object>"
      ]
     },
     "metadata": {},
     "output_type": "display_data"
    },
    {
     "data": {
      "text/html": [
       "<h4>Answer 9 (0)</h4>"
      ],
      "text/plain": [
       "<IPython.core.display.HTML object>"
      ]
     },
     "metadata": {},
     "output_type": "display_data"
    },
    {
     "data": {
      "text/html": [
       "<p>To achieve \"most distinguishable\" we need to use a perceptual color space like Lab (or any other perceptually linear color space) and not RGB. Also, we can quantize this space to reduce the size of the space.</p>\n",
       "\n",
       "<p>Generate the full 3D space with all possible quantized entries and run the K-means algorithm with <code>k=N</code>. The resulting centers/ \"means\" should be approximately most distinguishabl from each other. </p>\n"
      ],
      "text/plain": [
       "<IPython.core.display.HTML object>"
      ]
     },
     "metadata": {},
     "output_type": "display_data"
    }
   ],
   "source": [
    "so.display(id=180)"
   ]
  },
  {
   "cell_type": "code",
   "execution_count": null,
   "id": "f7dd9269-3191-472d-a8a5-450a990c2130",
   "metadata": {},
   "outputs": [],
   "source": []
  }
 ],
 "metadata": {
  "kernelspec": {
   "display_name": "python3",
   "language": "python",
   "name": "python3"
  },
  "language_info": {
   "codemirror_mode": {
    "name": "ipython",
    "version": 3
   },
   "file_extension": ".py",
   "mimetype": "text/x-python",
   "name": "python",
   "nbconvert_exporter": "python",
   "pygments_lexer": "ipython3",
   "version": "3.9.6"
  }
 },
 "nbformat": 4,
 "nbformat_minor": 5
}
